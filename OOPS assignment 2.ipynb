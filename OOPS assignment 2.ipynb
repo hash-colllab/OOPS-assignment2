{
  "metadata": {
    "kernelspec": {
      "name": "python",
      "display_name": "Python (Pyodide)",
      "language": "python"
    },
    "language_info": {
      "codemirror_mode": {
        "name": "python",
        "version": 3
      },
      "file_extension": ".py",
      "mimetype": "text/x-python",
      "name": "python",
      "nbconvert_exporter": "python",
      "pygments_lexer": "ipython3",
      "version": "3.8"
    }
  },
  "nbformat_minor": 4,
  "nbformat": 4,
  "cells": [
    {
      "cell_type": "code",
      "source": "# ANS 1: In Python, abstraction refers to the process of creating abstract classes and methods\n#        that provide a blueprint for other classes to inherit from.",
      "metadata": {
        "trusted": true
      },
      "outputs": [],
      "execution_count": 6
    },
    {
      "cell_type": "code",
      "source": "import abc",
      "metadata": {
        "trusted": true
      },
      "outputs": [],
      "execution_count": 2
    },
    {
      "cell_type": "code",
      "source": "class pwskills :\n    \n    @abc.abstractmethod\n    def student_roll_no(self) :\n        pass\n\n    @abc.abstractmethod\n    def student_score(self):\n        pass\n\n    @abc.abstractmethod\n    def student_grade(self):\n        pass",
      "metadata": {
        "trusted": true
      },
      "outputs": [],
      "execution_count": 5
    },
    {
      "cell_type": "code",
      "source": "# ANS 2:-Abstraction focuses on identifying the necessary components for building a system.\n#        Encapsulation is the mechanism that hides the internal complexities of a system.",
      "metadata": {
        "trusted": true
      },
      "outputs": [],
      "execution_count": 7
    },
    {
      "cell_type": "code",
      "source": "# ANS 3:-  ABCs are classes that are only meant to be inherited from.\n#          They can be used to define and enforce a common interface or contract for subclasses",
      "metadata": {
        "trusted": true
      },
      "outputs": [],
      "execution_count": 8
    },
    {
      "cell_type": "code",
      "source": "# ANS 4:- We can achieve data abstraction by using abstract classes and abstract classes cann be created by using abc module.",
      "metadata": {
        "trusted": true
      },
      "outputs": [],
      "execution_count": 9
    },
    {
      "cell_type": "code",
      "source": "# ANS 5:- YES, we can create instance of an abstract class, For example:- In ques no1, ",
      "metadata": {
        "trusted": true
      },
      "outputs": [],
      "execution_count": 10
    },
    {
      "cell_type": "code",
      "source": "class data_science(pwskills):\n\n    def student_roll_no(self):\n        return \"my roll number is 54\"",
      "metadata": {
        "trusted": true
      },
      "outputs": [],
      "execution_count": 13
    },
    {
      "cell_type": "code",
      "source": "rohan = data_science()",
      "metadata": {
        "trusted": true
      },
      "outputs": [],
      "execution_count": 14
    },
    {
      "cell_type": "code",
      "source": "rohan.student_roll_no()",
      "metadata": {
        "trusted": true
      },
      "outputs": [
        {
          "execution_count": 15,
          "output_type": "execute_result",
          "data": {
            "text/plain": "'my roll number is 54'"
          },
          "metadata": {}
        }
      ],
      "execution_count": 15
    },
    {
      "cell_type": "code",
      "source": "",
      "metadata": {
        "trusted": true
      },
      "outputs": [],
      "execution_count": null
    }
  ]
}